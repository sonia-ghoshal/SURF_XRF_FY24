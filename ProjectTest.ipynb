{
 "cells": [
  {
   "cell_type": "code",
   "execution_count": 2,
   "id": "59c71512-5f82-43a5-a59d-e53843aee2ed",
   "metadata": {},
   "outputs": [],
   "source": [
    "import numpy as np\n",
    "import pandas as pd\n",
    "import scipy as sp"
   ]
  },
  {
   "cell_type": "code",
   "execution_count": 7,
   "id": "7f184094-cc2c-4b97-8275-ea996098005e",
   "metadata": {},
   "outputs": [
    {
     "data": {
      "text/plain": [
       "'C:\\\\Users\\\\sng38\\\\SURF_XRF_FY24'"
      ]
     },
     "execution_count": 7,
     "metadata": {},
     "output_type": "execute_result"
    }
   ],
   "source": [
    "pwd"
   ]
  },
  {
   "cell_type": "code",
   "execution_count": 2,
   "id": "a8ffb2d7-d7af-4e03-8239-1dc8ee221de3",
   "metadata": {},
   "outputs": [
    {
     "name": "stdout",
     "output_type": "stream",
     "text": [
      "pandas 2.2.2\n"
     ]
    },
    {
     "data": {
      "text/plain": [
       "'1.26.4'"
      ]
     },
     "execution_count": 2,
     "metadata": {},
     "output_type": "execute_result"
    }
   ],
   "source": [
    "from importlib.metadata import version\n",
    "print(\"pandas \" + version(\"pandas\"))\n",
    "version(\"numpy\")"
   ]
  },
  {
   "cell_type": "code",
   "execution_count": 1,
   "id": "52ee975c-a9a0-46be-9303-70ae249b68ce",
   "metadata": {},
   "outputs": [],
   "source": [
    "import PyMca5 as pm"
   ]
  },
  {
   "cell_type": "code",
   "execution_count": null,
   "id": "df7cda0a-fec0-4994-8cdc-c4af97a7092f",
   "metadata": {},
   "outputs": [],
   "source": [
    "\n"
   ]
  }
 ],
 "metadata": {
  "kernelspec": {
   "display_name": "Python [conda env:SURF_XRF_FY24] *",
   "language": "python",
   "name": "conda-env-SURF_XRF_FY24-py"
  },
  "language_info": {
   "codemirror_mode": {
    "name": "ipython",
    "version": 3
   },
   "file_extension": ".py",
   "mimetype": "text/x-python",
   "name": "python",
   "nbconvert_exporter": "python",
   "pygments_lexer": "ipython3",
   "version": "3.12.4"
  }
 },
 "nbformat": 4,
 "nbformat_minor": 5
}
