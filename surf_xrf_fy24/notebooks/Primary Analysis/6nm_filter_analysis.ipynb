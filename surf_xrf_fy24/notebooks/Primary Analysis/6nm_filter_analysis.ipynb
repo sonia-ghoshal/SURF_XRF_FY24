{
 "cells": [
  {
   "cell_type": "markdown",
   "id": "fec46736-12b6-4408-9b78-e1349c259b83",
   "metadata": {},
   "source": [
    "# Filter Analysis\n",
    "**In this notebook, we analyze the results of applying 5 filters to a HfO2 thin film on a Si subtrate, with the end goal of removing unwanted diffraction peaks while maintaining a desirable signal:noise ratio.**\n",
    "\n",
    "*Date: 06/24/2024*\n",
    "\n",
    "*Author: Sonia Ghoshal, NIST SURF*\n",
    "## Setup\n",
    "### Chip Details:\n",
    "* type: KRISS K157 #502\n",
    "* thickness: 6.0nm\n",
    "* composition: HfO2 over Si substrate\n",
    "### Filter Details: \n",
    "* F0 = No filter\n",
    "* F1 = Al 12.5μm\n",
    "* F2 = Al 100μm\n",
    "* F3 = Al 630μm\n",
    "* F4 = Al 100μm, Ti 25μm\n",
    "* F5 = Al 100μm, Ti 50μm, Cu 25μm\n",
    "### General info:\n",
    "* reading .txt format\n",
    "* mapping Si and Hf net counts, roi net counts, roi background net counts\n",
    "* raw > process directories\n",
    "\n",
    "### Files and directories used for fitting\n",
    "- specify the location to load .txt data (raw)\n",
    "- specify the location to save processed results (data), and generated figures (data)\n",
    "- specify file name\n",
    "- specify new name extensions\n"
   ]
  },
  {
   "cell_type": "code",
   "execution_count": 21,
   "id": "099b11e7-8257-414e-81e5-50f34d5fdb34",
   "metadata": {},
   "outputs": [],
   "source": [
    "#net sums .txt file names\n",
    "ns1TextFile = 'KRISS157_T1_6nm_net_sums_2.txt'\n",
    "ns2TextFile = 'net_sums_2.txt'\n",
    "ns3TextFile = 'net_sums_3.txt'\n",
    "\n",
    "#roi sums .txt file names\n",
    "roi1TextFile = 'KRISS157_T1_6nm_roi_sums_2.txt'\n",
    "roi2TextFile = 'roi_net_sums_2.txt'\n",
    "roi3TextFile = 'roi_net_sums_3.txt'\n",
    "\n",
    "#background roi sums .txt file names\n",
    "bg_roi1TextFile = 'KRISS157_T1_6nm_roi_bg_sums_2.txt'\n",
    "bg_roi2TextFile = 'roi_bg_sums_2.txt'\n",
    "bg_roi3TextFile = 'roi_bg_sums_3.txt'\n",
    "\n",
    "#Location in the raw directory where data is kept\n",
    "T1Dir = '\\\\20240624_HfO2_Filter\\\\Trial 1\\\\Counts\\\\'\n",
    "T2Dir = '\\\\20240624_HfO2_Filter\\\\Trial 2\\\\Counts\\\\'\n",
    "T3Dir = '\\\\20240624_HfO2_Filter\\\\Trial 3\\\\Counts\\\\'\n",
    "\n",
    "# TextFileDir = '20240624_HfO2_Filter\\\\Trial 1\\\\Counts'\n",
    "TextFileStrip = 'interim'\n",
    "# Sample = \"T1\"\n",
    "#Sample_name = \"6 nm \""
   ]
  },
  {
   "cell_type": "markdown",
   "id": "74a575ee-198f-4d81-8fec-7b607cef849b",
   "metadata": {},
   "source": [
    "## 1.2. Imports"
   ]
  },
  {
   "cell_type": "code",
   "execution_count": 82,
   "id": "29044e8c-cd57-4a82-8536-630fcc513ded",
   "metadata": {},
   "outputs": [],
   "source": [
    "import pickle as pkl\n",
    "import pandas as pd\n",
    "import numpy as np\n",
    "import scipy as sp\n",
    "import matplotlib as mpl\n",
    "import matplotlib.pyplot as plt\n",
    "import PyMca5 as mca\n",
    "import os\n",
    "import gzip\n",
    "import re as re\n",
    "import math\n",
    "from importlib.metadata import version\n",
    "%matplotlib inline"
   ]
  },
  {
   "cell_type": "markdown",
   "id": "b87f6dcd-b6df-41f8-87fe-90a30481398d",
   "metadata": {},
   "source": [
    "### 1.2.2. Building a Subdirectory Tree for Imports and Exports\n",
    "* uses import os command to find current working directory of this notebook\n",
    "* generates directory tree from this root location assuming a `cookiecutter` data science directory tree."
   ]
  },
  {
   "cell_type": "code",
   "execution_count": 23,
   "id": "96d0c7ad-a22c-4082-9f68-d53fd41a91aa",
   "metadata": {},
   "outputs": [
    {
     "name": "stdout",
     "output_type": "stream",
     "text": [
      "C:\\Users\\sng38\\SURF_XRF_FY24\\surf_xrf_fy24\\notebooks\\Primary Analysis\n",
      "C:\\Users\\sng38\\SURF_XRF_FY24\\surf_xrf_fy24\\notebooks\n"
     ]
    }
   ],
   "source": [
    "NoteBookDir = os.getcwd()\n",
    "print(NoteBookDir)\n",
    "NoteBookRootDir = os.path.split(NoteBookDir)[0]\n",
    "print(NoteBookRootDir)"
   ]
  },
  {
   "cell_type": "code",
   "execution_count": 24,
   "id": "95093335-e1c0-44df-927d-687df4b78ff0",
   "metadata": {},
   "outputs": [
    {
     "name": "stdout",
     "output_type": "stream",
     "text": [
      "current notebook dir =  C:\\Users\\sng38\\SURF_XRF_FY24\\surf_xrf_fy24\\notebooks\\Primary Analysis \n",
      "Project directory =  C:\\Users\\sng38\\SURF_XRF_FY24\\surf_xrf_fy24 \n",
      "raw directory =  C:\\Users\\sng38\\SURF_XRF_FY24\\surf_xrf_fy24\\data\\raw\\ \n",
      "interim directory =  C:\\Users\\sng38\\SURF_XRF_FY24\\surf_xrf_fy24\\data\\interim\\ \n",
      "interim figures directory =  C:\\Users\\sng38\\SURF_XRF_FY24\\surf_xrf_fy24\\data\\interim\\figures\\ \n",
      "processed directory =  C:\\Users\\sng38\\SURF_XRF_FY24\\surf_xrf_fy24\\data\\processed\\ \n",
      "processed figures directory =  C:\\Users\\sng38\\SURF_XRF_FY24\\surf_xrf_fy24\\data\\processed\\figures\\ \n",
      "models directory =  C:\\Users\\sng38\\SURF_XRF_FY24\\surf_xrf_fy24\\models\\\n",
      "C:\\Users\\sng38\\SURF_XRF_FY24\\surf_xrf_fy24\\data\\raw\\\\20240624_HfO2_Filter\\Trial 1\\Counts\\KRISS157_T1_6nm_net_sums_2.txt\n"
     ]
    }
   ],
   "source": [
    "# Set by cookiecutter structure\n",
    "FiguresSuffix = 'figures\\\\'\n",
    "RawSuffix = '\\\\data\\\\raw\\\\'\n",
    "InterimSuffix = '\\\\data\\\\interim\\\\'\n",
    "ProcessedSuffix = '\\\\data\\\\processed\\\\'\n",
    "ModelSuffix = '\\\\models\\\\'\n",
    "\n",
    "# Find the Current Working Directory set by the notebook location\n",
    "NoteBookDir = os.getcwd()\n",
    "# find root of notebooks Directory\n",
    "NoteBookRootDir = os.path.split(NoteBookDir)[0]\n",
    "# Back up one directories (assuming that the notebook is inside a folder within the notebook root)\n",
    "ProjectDir = os.path.split(NoteBookRootDir)[0]\n",
    "# build directory links independent of OS and directory location of repo.\n",
    "RawDir = ProjectDir + RawSuffix\n",
    "InterimDir = ProjectDir + InterimSuffix\n",
    "InterimFigDir = ProjectDir + InterimSuffix + FiguresSuffix\n",
    "ProcessedDir = ProjectDir + ProcessedSuffix\n",
    "ProcessedFigDir = ProjectDir + ProcessedSuffix + FiguresSuffix\n",
    "ModelDir = ProjectDir + ModelSuffix\n",
    "\n",
    "print(\"current notebook dir = \", NoteBookDir, \"\\nProject directory = \", ProjectDir, \"\\nraw directory = \", RawDir, \"\\ninterim directory = \",InterimDir, \n",
    "      \"\\ninterim figures directory = \", InterimFigDir, \"\\nprocessed directory = \", ProcessedDir,\"\\nprocessed figures directory = \",ProcessedFigDir,\n",
    "      \"\\nmodels directory = \", ModelDir)\n",
    "print(RawDir+T1Dir+ns1TextFile)"
   ]
  },
  {
   "cell_type": "markdown",
   "id": "4d421776-e02b-4fbd-bf57-76c2024d02f8",
   "metadata": {},
   "source": [
    "### 1.2.3. Importing data from .txt files\n",
    "- Unfortunately, the .txt files for the net counts, ROI counts, and Background ROI counts are not formatted in identical ways. Thus, parsing through the files could not be streamlined - each file has to be read slightly differently. "
   ]
  },
  {
   "cell_type": "code",
   "execution_count": 61,
   "id": "4a6f88b2-4580-46a2-bf28-63ec91922870",
   "metadata": {},
   "outputs": [
    {
     "name": "stdout",
     "output_type": "stream",
     "text": [
      "            Si        Rh        Hf\n",
      "0  2471.488095  1.804539  2.190375\n",
      "1  1021.042683  1.809707  2.240193\n",
      "2   431.265306  1.693104  5.051044\n",
      "3   108.227273  1.921145       inf\n",
      "4   372.750000  2.058651       inf\n",
      "5          inf  2.430876       inf\n",
      "\n",
      "        Si     Rh    Hf\n",
      "0  622815  10654  5143\n",
      "1  167451   9881  4169\n",
      "2   42264   7194  2177\n",
      "3    4762   3825   368\n",
      "4    7455   2808   535\n",
      "5     798   1055    63\n",
      "\n",
      "     Si    Rh    Hf\n",
      "0  252  5904  2348\n",
      "1  164  5460  1861\n",
      "2   98  4249   431\n",
      "3   44  1991     0\n",
      "4   20  1364     0\n",
      "5    0   434     0\n"
     ]
    }
   ],
   "source": [
    "NetSum1 = pd.read_csv(RawDir + T1Dir + ns1TextFile, sep = ' ', skiprows = 2, skipfooter=5, comment = '-', skipinitialspace=True, \n",
    "                           engine = 'python')\n",
    "\n",
    "roiSum1 = pd.read_csv(RawDir + T1Dir + roi1TextFile, sep = ' ', skiprows = 2, skipfooter=6, comment = '-', skipinitialspace=True, \n",
    "                           engine = 'python')\n",
    "\n",
    "bg_roiSum1 = pd.read_csv(RawDir + T1Dir + bg_roi1TextFile,  sep = ' ', skiprows = 2, skipfooter=6, comment = '--', skipinitialspace=True, \n",
    "                           engine = 'python')\n",
    "\n",
    "#We will delete the 'Spectrum' column. It'll be easier in the next step if all of the values are integers. \n",
    "# The row (index) signifies the filter used.\n",
    "del NetSum1['Spectrum']\n",
    "del roiSum1['Spectrum']\n",
    "del bg_roiSum1['Spectrum']\n",
    "\n",
    "#For some reason, the background ROI values read in as negative values. We change them to all be positive numbers. \n",
    "bg_roiSum1 = bg_roiSum1.multiply(-1)\n",
    "\n",
    "#print(\"\\n\", NetSum1)\n",
    "print(\"\\n\", roiSum1)\n",
    "print(\"\\n\", bg_roiSum1)\n",
    "\n",
    "#mXRFNetSum1['Spectrum'].replace(TextFileStrip,Sample, regex=True, inplace=True)\n",
    "#mXRFNetSumDF['Spectrum'], TextFileStrip\n",
    "##D1 = mXRFNetSumDF[0:6]\n",
    "#D2 = mXRFNetSumDF[100:200]\n",
    "#"
   ]
  },
  {
   "cell_type": "markdown",
   "id": "c4a2d245-0760-4264-8e40-4b0a353fc8e0",
   "metadata": {},
   "source": [
    "## 1.3. Statistical Analysis\n",
    "**Here, we divide the ROI counts by the background ROI counts to normalize and thus obtain a ratio that signifies signal:noise.**"
   ]
  },
  {
   "cell_type": "code",
   "execution_count": 81,
   "id": "17317dc2-10ff-46e6-9b06-553e4b3445b8",
   "metadata": {},
   "outputs": [
    {
     "data": {
      "text/html": [
       "<div>\n",
       "<style scoped>\n",
       "    .dataframe tbody tr th:only-of-type {\n",
       "        vertical-align: middle;\n",
       "    }\n",
       "\n",
       "    .dataframe tbody tr th {\n",
       "        vertical-align: top;\n",
       "    }\n",
       "\n",
       "    .dataframe thead th {\n",
       "        text-align: right;\n",
       "    }\n",
       "</style>\n",
       "<table border=\"1\" class=\"dataframe\">\n",
       "  <thead>\n",
       "    <tr style=\"text-align: right;\">\n",
       "      <th></th>\n",
       "      <th>Hf Net Counts</th>\n",
       "      <th>Hf Signal:Noise</th>\n",
       "      <th>Net Counts δ(%)</th>\n",
       "      <th>ROI δ(%)</th>\n",
       "      <th>BG ROI δ(%)</th>\n",
       "    </tr>\n",
       "    <tr>\n",
       "      <th>Filter</th>\n",
       "      <th></th>\n",
       "      <th></th>\n",
       "      <th></th>\n",
       "      <th></th>\n",
       "      <th></th>\n",
       "    </tr>\n",
       "  </thead>\n",
       "  <tbody>\n",
       "    <tr>\n",
       "      <th>F0</th>\n",
       "      <td>8970</td>\n",
       "      <td>2.190375</td>\n",
       "      <td>1.055854</td>\n",
       "      <td>1.394414</td>\n",
       "      <td>2.063721</td>\n",
       "    </tr>\n",
       "    <tr>\n",
       "      <th>F1</th>\n",
       "      <td>7244</td>\n",
       "      <td>2.240193</td>\n",
       "      <td>1.174927</td>\n",
       "      <td>1.548760</td>\n",
       "      <td>2.318071</td>\n",
       "    </tr>\n",
       "    <tr>\n",
       "      <th>F2</th>\n",
       "      <td>3845</td>\n",
       "      <td>5.051044</td>\n",
       "      <td>1.612693</td>\n",
       "      <td>2.143240</td>\n",
       "      <td>4.816831</td>\n",
       "    </tr>\n",
       "    <tr>\n",
       "      <th>F3</th>\n",
       "      <td>713</td>\n",
       "      <td>inf</td>\n",
       "      <td>3.745029</td>\n",
       "      <td>5.212860</td>\n",
       "      <td>inf</td>\n",
       "    </tr>\n",
       "    <tr>\n",
       "      <th>F4</th>\n",
       "      <td>950</td>\n",
       "      <td>inf</td>\n",
       "      <td>3.244428</td>\n",
       "      <td>4.323377</td>\n",
       "      <td>inf</td>\n",
       "    </tr>\n",
       "    <tr>\n",
       "      <th>F5</th>\n",
       "      <td>114</td>\n",
       "      <td>inf</td>\n",
       "      <td>9.365858</td>\n",
       "      <td>12.598816</td>\n",
       "      <td>inf</td>\n",
       "    </tr>\n",
       "  </tbody>\n",
       "</table>\n",
       "</div>"
      ],
      "text/plain": [
       "        Hf Net Counts  Hf Signal:Noise  Net Counts δ(%)   ROI δ(%) BG ROI δ(%)\n",
       "Filter                                                                        \n",
       "F0               8970         2.190375         1.055854   1.394414    2.063721\n",
       "F1               7244         2.240193         1.174927   1.548760    2.318071\n",
       "F2               3845         5.051044         1.612693   2.143240    4.816831\n",
       "F3                713              inf         3.745029   5.212860         inf\n",
       "F4                950              inf         3.244428   4.323377         inf\n",
       "F5                114              inf         9.365858  12.598816         inf"
      ]
     },
     "execution_count": 81,
     "metadata": {},
     "output_type": "execute_result"
    }
   ],
   "source": [
    "# division of ROI counts by Background ROI counts (signal:noise). We only care about the Hf counts, not Si or Rh.\n",
    "norm_1 = roiSum1.div(bg_roiSum1)\n",
    "del norm_1['Rh']\n",
    "del norm_1['Si']\n",
    "\n",
    "#Convert Hf net counts, ROI counts, background ROI counts, and normalized ROI counts to lists\n",
    "Hf_net_1 = NetSum1['Hf'].to_list()\n",
    "Hf_roi_1 = roiSum1['Hf'].to_list()\n",
    "Hf_bg_roi_1 = bg_roiSum1['Hf'].to_list() \n",
    "Hf_norm_1 = norm_1['Hf'].to_list()\n",
    "\n",
    "net_rel_uncer = []\n",
    "for a in range(len(Hf_net_1)):\n",
    "    net_rel_uncer.append(math.sqrt(Hf_net_1[a]) * 100 / Hf_net_1[a])\n",
    "\n",
    "roi_rel_uncer = []\n",
    "for j in range(len(Hf_roi_1)):\n",
    "    roi_rel_uncer.append(math.sqrt(Hf_roi_1[j]) * 100 / Hf_roi_1[j])\n",
    "\n",
    "bg_roi_rel_uncer = []\n",
    "for k in range(len(Hf_bg_roi_1)):\n",
    "    if Hf_bg_roi_1[k] != 0:\n",
    "        bg_roi_rel_uncer.append(math.sqrt(Hf_bg_roi_1[k]) * 100 / (Hf_bg_roi_1[k]))\n",
    "    else: \n",
    "        bg_roi_rel_uncer.append('inf')\n",
    "\n",
    "norm_1_data = {\n",
    "    \"Filter\":['F0', 'F1', 'F2', 'F3', 'F4', 'F5'],\n",
    "    \"Hf Net Counts\": Hf_net_1,\n",
    "    \"Hf Signal:Noise\":Hf_norm_1,\n",
    "    \"Net Counts δ(%)\": net_rel_uncer,\n",
    "    \"ROI δ(%)\":roi_rel_uncer,\n",
    "    \"BG ROI δ(%)\": bg_roi_rel_uncer,\n",
    "}\n",
    "\n",
    "norm_df_1 = pd.DataFrame(norm_1_data)\n",
    "norm_df_1 = norm_df_1.set_index('Filter')\n",
    "norm_df_1"
   ]
  },
  {
   "cell_type": "code",
   "execution_count": 87,
   "id": "8680cc72-c5e2-4fe1-b94d-5d66daaa9081",
   "metadata": {},
   "outputs": [
    {
     "data": {
      "image/png": "[encoded data removed]",
      "text/plain": [
       "<Figure size 640x480 with 1 Axes>"
      ]
     },
     "metadata": {},
     "output_type": "display_data"
    }
   ],
   "source": [
    "#fig, ax = plt.subplots()\n",
    "filt_plot = plt.plot(Hf_norm_1, Hf_net_1)\n",
    "#ax.plot(D1_filtered.index.values, sp.stats.zscore(D1_f_Z), color = \"g\", label = 'D1')\n",
    "#ax.plot(D1_filtered.index.values, sp.stats.zscore(D2_f_Z), color = \"b\", label = 'D2')\n",
    "#filt_plot.set_title('Hf Net Counts vs. Normalized ROI Counts')\n",
    "#filt_plot.set_xlabel('Normalized Hf ROI (Signal:Noise)')\n",
    "#filt_plot.set_ylabel('Hf Net Counts')\n",
    "#ax.legend()\n",
    "#plt.savefig(ProcessedFigDir + Sample + 'Si_Z-score_post_clean' + '.png', dpi=600)\n",
    "plt.show()"
   ]
  },
  {
   "cell_type": "code",
   "execution_count": null,
   "id": "36e03073-681e-4d3c-a59b-109c061e1fb1",
   "metadata": {},
   "outputs": [],
   "source": []
  }
 ],
 "metadata": {
  "kernelspec": {
   "display_name": "Python 3 (ipykernel)",
   "language": "python",
   "name": "python3"
  },
  "language_info": {
   "codemirror_mode": {
    "name": "ipython",
    "version": 3
   },
   "file_extension": ".py",
   "mimetype": "text/x-python",
   "name": "python",
   "nbconvert_exporter": "python",
   "pygments_lexer": "ipython3",
   "version": "3.11.7"
  }
 },
 "nbformat": 4,
 "nbformat_minor": 5
}
